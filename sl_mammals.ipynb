{
 "cells": [
  {
   "cell_type": "code",
   "execution_count": 29,
   "metadata": {},
   "outputs": [],
   "source": [
    "import pandas as pd\n",
    "import numpy as np\n",
    "import scipy as sc\n",
    "import seaborn as sns\n",
    "from matplotlib import pyplot as plt\n",
    "from scipy import stats\n",
    "%matplotlib inline\n",
    "\n",
    "import statsmodels.stats.api as sms\n",
    "import statsmodels.formula.api as sm\n",
    "import scipy.stats as stats\n",
    "from statsmodels.sandbox.stats.multicomp import multipletests \n",
    "from statsmodels.stats.diagnostic import het_breuschpagan\n",
    "\n",
    "from sklearn.impute import KNNImputer\n",
    "\n",
    "import warnings\n",
    "warnings.filterwarnings(\"ignore\")"
   ]
  },
  {
   "cell_type": "markdown",
   "metadata": {},
   "source": [
    "Этот набор данных включает информацию о 40 видах млекопитающих. Полученные данные были использованы для анализа связи между конституциональными и экологическими факторами и сном у млекопитающих. Были зарегистрированы две качественно разные переменные сна (сновидение и отсутствие сновидений). Были оценены конституциональные переменные, такие как продолжительность жизни, масса тела, масса мозга и время беременности. Экологические переменные, такие как серьезность хищничества, безопасность спального места и общая опасность, были получены на основе изучения в литературных источниках.\n",
    "\n",
    "Allison T., Cicchetti D. V. Sleep in mammals: ecological and constitutional correlates //Science. – 1976. – Т. 194. – №. 4266. – С. 732-734."
   ]
  },
  {
   "cell_type": "code",
   "execution_count": 47,
   "metadata": {},
   "outputs": [
    {
     "data": {
      "text/html": [
       "<div>\n",
       "<style scoped>\n",
       "    .dataframe tbody tr th:only-of-type {\n",
       "        vertical-align: middle;\n",
       "    }\n",
       "\n",
       "    .dataframe tbody tr th {\n",
       "        vertical-align: top;\n",
       "    }\n",
       "\n",
       "    .dataframe thead th {\n",
       "        text-align: right;\n",
       "    }\n",
       "</style>\n",
       "<table border=\"1\" class=\"dataframe\">\n",
       "  <thead>\n",
       "    <tr style=\"text-align: right;\">\n",
       "      <th></th>\n",
       "      <th>species</th>\n",
       "      <th>body_wt</th>\n",
       "      <th>brain_wt</th>\n",
       "      <th>non_dreaming</th>\n",
       "      <th>dreaming</th>\n",
       "      <th>total_sleep</th>\n",
       "      <th>life_span</th>\n",
       "      <th>gestation</th>\n",
       "      <th>predation</th>\n",
       "      <th>exposure</th>\n",
       "      <th>danger</th>\n",
       "    </tr>\n",
       "  </thead>\n",
       "  <tbody>\n",
       "    <tr>\n",
       "      <th>0</th>\n",
       "      <td>African giant pouched rat</td>\n",
       "      <td>1.000</td>\n",
       "      <td>6.6</td>\n",
       "      <td>6.3</td>\n",
       "      <td>2.0</td>\n",
       "      <td>8.3</td>\n",
       "      <td>4.5</td>\n",
       "      <td>42.0</td>\n",
       "      <td>3</td>\n",
       "      <td>1</td>\n",
       "      <td>3</td>\n",
       "    </tr>\n",
       "    <tr>\n",
       "      <th>1</th>\n",
       "      <td>Asian elephant</td>\n",
       "      <td>2547.000</td>\n",
       "      <td>4603.0</td>\n",
       "      <td>2.1</td>\n",
       "      <td>1.8</td>\n",
       "      <td>3.9</td>\n",
       "      <td>69.0</td>\n",
       "      <td>624.0</td>\n",
       "      <td>3</td>\n",
       "      <td>5</td>\n",
       "      <td>4</td>\n",
       "    </tr>\n",
       "    <tr>\n",
       "      <th>2</th>\n",
       "      <td>Baboon</td>\n",
       "      <td>10.550</td>\n",
       "      <td>179.5</td>\n",
       "      <td>9.1</td>\n",
       "      <td>0.7</td>\n",
       "      <td>9.8</td>\n",
       "      <td>27.0</td>\n",
       "      <td>180.0</td>\n",
       "      <td>4</td>\n",
       "      <td>4</td>\n",
       "      <td>4</td>\n",
       "    </tr>\n",
       "    <tr>\n",
       "      <th>3</th>\n",
       "      <td>Big brown bat</td>\n",
       "      <td>0.023</td>\n",
       "      <td>0.3</td>\n",
       "      <td>15.8</td>\n",
       "      <td>3.9</td>\n",
       "      <td>19.7</td>\n",
       "      <td>19.0</td>\n",
       "      <td>35.0</td>\n",
       "      <td>1</td>\n",
       "      <td>1</td>\n",
       "      <td>1</td>\n",
       "    </tr>\n",
       "    <tr>\n",
       "      <th>4</th>\n",
       "      <td>Brazilian tapir</td>\n",
       "      <td>160.000</td>\n",
       "      <td>169.0</td>\n",
       "      <td>5.2</td>\n",
       "      <td>1.0</td>\n",
       "      <td>6.2</td>\n",
       "      <td>30.4</td>\n",
       "      <td>392.0</td>\n",
       "      <td>4</td>\n",
       "      <td>5</td>\n",
       "      <td>4</td>\n",
       "    </tr>\n",
       "  </tbody>\n",
       "</table>\n",
       "</div>"
      ],
      "text/plain": [
       "                     species   body_wt  brain_wt  non_dreaming  dreaming  \\\n",
       "0  African giant pouched rat     1.000       6.6           6.3       2.0   \n",
       "1             Asian elephant  2547.000    4603.0           2.1       1.8   \n",
       "2                     Baboon    10.550     179.5           9.1       0.7   \n",
       "3              Big brown bat     0.023       0.3          15.8       3.9   \n",
       "4            Brazilian tapir   160.000     169.0           5.2       1.0   \n",
       "\n",
       "   total_sleep  life_span  gestation  predation  exposure  danger  \n",
       "0          8.3        4.5       42.0          3         1       3  \n",
       "1          3.9       69.0      624.0          3         5       4  \n",
       "2          9.8       27.0      180.0          4         4       4  \n",
       "3         19.7       19.0       35.0          1         1       1  \n",
       "4          6.2       30.4      392.0          4         5       4  "
      ]
     },
     "execution_count": 47,
     "metadata": {},
     "output_type": "execute_result"
    }
   ],
   "source": [
    "df = pd.read_csv('SleepInMammals.csv')\n",
    "data = df.drop(['non_dreaming', 'dreaming'], axis=1)\n",
    "df.head()"
   ]
  },
  {
   "cell_type": "code",
   "execution_count": 3,
   "metadata": {},
   "outputs": [],
   "source": [
    "all_feat = ['total_sleep', 'body_wt', 'brain_wt', 'life_span', 'gestation', 'predation', 'exposure', 'danger']\n",
    "cat_feat = ['predation', 'exposure', 'danger']\n",
    "num_feat = ['body_wt', 'brain_wt', 'life_span', 'gestation']\n",
    "target = 'total_sleep'"
   ]
  },
  {
   "cell_type": "markdown",
   "metadata": {},
   "source": [
    "| Имя столбца                | Значение                     |\n",
    "|:--------------------------:|:----------------------------:|\n",
    "| Species of animal          | Виды животных                |\n",
    "| Body Weight (kg)           | Масса тела (кг)              | \n",
    "| Brain Weight (g)           | Вес мозга (г)                | \n",
    "| Slow wave sleep (hrs/day)  | Медленная фаза сна (ч/день)  | \n",
    "| Paradoxical sleep (hrs/day)| Быстрая фаза сна (ч/день)    |\n",
    "| Total sleep (hrs/day)      | Общий сон (часы/день)        |\n",
    "| Maximum life span (years)  | Длительность жизни (лет)     |\n",
    "| Gestation time (days)      | Срок беременности (дни)      |\n",
    "| Predation index            | Индекс хищничества           |\n",
    "| Sleep exposure index       | Индекс экспозиции во сне     |\n",
    "| Overall danger index       | Общий индекс опасности       |\n",
    "\n",
    "Дополнительные пояснения по переменным:\n",
    "1. Индекс хищничества - показатель вероятности того, что млекопитающее станет добычей. 1 = наименьшая вероятность стать добычей. 5 = скорее всего, на вас будут охотиться.\n",
    "2. Индекс экспозиции во сне - показатель того, насколько подвержено опасности млекопитающее во время сна. 1 = наименее подвергается воздействию (например, спит в хорошо защищенном логове). 5 = наиболее уязвимые\n",
    "3. Общий индекс опасности - показатель того, с какой опасностью млекопитающие сталкиваются со стороны других животных. Этот индекс основан на хищничестве и воздействии. 1 = наименьшая опасность от других животных. 5 = наибольшая опасность от других животных."
   ]
  },
  {
   "cell_type": "code",
   "execution_count": 5,
   "metadata": {},
   "outputs": [
    {
     "data": {
      "image/png": "[encoded data removed]",
      "text/plain": [
       "<Figure size 1080x1080 with 16 Axes>"
      ]
     },
     "metadata": {
      "needs_background": "light"
     },
     "output_type": "display_data"
    }
   ],
   "source": [
    "pd.plotting.scatter_matrix(data[num_feat], alpha=0.4, \n",
    "                                 figsize=(15, 15), diagonal='hist')\n",
    "plt.show()"
   ]
  },
  {
   "cell_type": "code",
   "execution_count": 6,
   "metadata": {},
   "outputs": [
    {
     "name": "stdout",
     "output_type": "stream",
     "text": [
      "                            OLS Regression Results                            \n",
      "==============================================================================\n",
      "Dep. Variable:            total_sleep   R-squared:                       0.733\n",
      "Model:                            OLS   Adj. R-squared:                  0.547\n",
      "Method:                 Least Squares   F-statistic:                     3.947\n",
      "Date:                Mon, 21 Feb 2022   Prob (F-statistic):            0.00144\n",
      "Time:                        22:16:35   Log-Likelihood:                -91.785\n",
      "No. Observations:                  40   AIC:                             217.6\n",
      "Df Residuals:                      23   BIC:                             246.3\n",
      "Df Model:                          16                                         \n",
      "Covariance Type:            nonrobust                                         \n",
      "=====================================================================================\n",
      "                        coef    std err          t      P>|t|      [0.025      0.975]\n",
      "-------------------------------------------------------------------------------------\n",
      "Intercept            15.0026      1.713      8.757      0.000      11.459      18.547\n",
      "C(predation)[T.2]     4.5503      2.395      1.900      0.070      -0.404       9.505\n",
      "C(predation)[T.3]     6.4643      3.746      1.726      0.098      -1.284      14.213\n",
      "C(predation)[T.4]     9.7075      4.509      2.153      0.042       0.380      19.035\n",
      "C(predation)[T.5]     9.1988      4.867      1.890      0.071      -0.870      19.268\n",
      "C(exposure)[T.2]     -0.4926      1.893     -0.260      0.797      -4.409       3.424\n",
      "C(exposure)[T.3]     -1.3518      2.648     -0.511      0.615      -6.829       4.126\n",
      "C(exposure)[T.4]      0.6413      3.445      0.186      0.854      -6.484       7.767\n",
      "C(exposure)[T.5]      0.2822      5.330      0.053      0.958     -10.745      11.309\n",
      "C(danger)[T.2]       -5.5944      2.546     -2.197      0.038     -10.861      -0.328\n",
      "C(danger)[T.3]      -10.9319      3.679     -2.972      0.007     -18.542      -3.322\n",
      "C(danger)[T.4]      -12.3776      5.083     -2.435      0.023     -22.893      -1.862\n",
      "C(danger)[T.5]      -17.1790      7.016     -2.448      0.022     -31.694      -2.664\n",
      "brain_wt             -0.0014      0.004     -0.352      0.728      -0.010       0.007\n",
      "body_wt               0.0044      0.007      0.671      0.509      -0.009       0.018\n",
      "life_span            -0.0126      0.057     -0.220      0.828      -0.131       0.106\n",
      "gestation            -0.0156      0.010     -1.605      0.122      -0.036       0.005\n",
      "==============================================================================\n",
      "Omnibus:                        4.645   Durbin-Watson:                   1.919\n",
      "Prob(Omnibus):                  0.098   Jarque-Bera (JB):                3.539\n",
      "Skew:                           0.466   Prob(JB):                        0.170\n",
      "Kurtosis:                       4.121   Cond. No.                     1.97e+04\n",
      "==============================================================================\n",
      "\n",
      "Notes:\n",
      "[1] Standard Errors assume that the covariance matrix of the errors is correctly specified.\n",
      "[2] The condition number is large, 1.97e+04. This might indicate that there are\n",
      "strong multicollinearity or other numerical problems.\n"
     ]
    }
   ],
   "source": [
    "m1 = sm.ols('total_sleep ~  brain_wt + body_wt + life_span + gestation + C(predation) + C(exposure) + C(danger)', \n",
    "             data=data)\n",
    "fitted = m1.fit()\n",
    "print(fitted.summary())"
   ]
  },
  {
   "cell_type": "code",
   "execution_count": 7,
   "metadata": {},
   "outputs": [
    {
     "name": "stdout",
     "output_type": "stream",
     "text": [
      "Breusch-Pagan test: p=0.258357\n"
     ]
    }
   ],
   "source": [
    "print('Breusch-Pagan test: p=%f' % het_breuschpagan(fitted.resid, fitted.model.exog)[1])"
   ]
  },
  {
   "cell_type": "code",
   "execution_count": 45,
   "metadata": {},
   "outputs": [
    {
     "name": "stdout",
     "output_type": "stream",
     "text": [
      "                             OLS Regression Results                            \n",
      "===============================================================================\n",
      "Dep. Variable:     np.log(total_sleep)   R-squared:                       0.875\n",
      "Model:                             OLS   Adj. R-squared:                  0.812\n",
      "Method:                  Least Squares   F-statistic:                     13.95\n",
      "Date:                 Mon, 21 Feb 2022   Prob (F-statistic):           1.48e-08\n",
      "Time:                         22:33:16   Log-Likelihood:                 13.128\n",
      "No. Observations:                   40   AIC:                             1.743\n",
      "Df Residuals:                       26   BIC:                             25.39\n",
      "Df Model:                           13                                         \n",
      "Covariance Type:             nonrobust                                         \n",
      "=======================================================================================================\n",
      "                                          coef    std err          t      P>|t|      [0.025      0.975]\n",
      "-------------------------------------------------------------------------------------------------------\n",
      "Intercept                               3.1165      0.717      4.344      0.000       1.642       4.591\n",
      "C(predation)[T.2]                       0.4854      0.210      2.307      0.029       0.053       0.918\n",
      "C(predation)[T.3]                       0.7431      0.312      2.385      0.025       0.103       1.384\n",
      "C(predation)[T.4]                       1.0648      0.349      3.055      0.005       0.348       1.781\n",
      "C(predation)[T.5]                       0.9023      0.373      2.420      0.023       0.136       1.668\n",
      "C(danger)[T.2]                         -0.4563      0.201     -2.270      0.032      -0.869      -0.043\n",
      "C(danger)[T.3]                         -0.9597      0.284     -3.382      0.002      -1.543      -0.376\n",
      "C(danger)[T.4]                         -1.0034      0.336     -2.983      0.006      -1.695      -0.312\n",
      "C(danger)[T.5]                         -1.5109      0.388     -3.889      0.001      -2.309      -0.712\n",
      "np.log(body_wt)                         0.0478      0.062      0.771      0.447      -0.080       0.175\n",
      "np.log(body_wt):np.log(life_span)      -0.0480      0.022     -2.229      0.035      -0.092      -0.004\n",
      "np.log(life_span)                      -0.1353      0.285     -0.474      0.639      -0.722       0.451\n",
      "np.log(life_span):np.log(gestation)     0.0612      0.067      0.915      0.369      -0.076       0.199\n",
      "np.log(gestation)                      -0.2316      0.171     -1.358      0.186      -0.582       0.119\n",
      "==============================================================================\n",
      "Omnibus:                        1.350   Durbin-Watson:                   1.538\n",
      "Prob(Omnibus):                  0.509   Jarque-Bera (JB):                1.029\n",
      "Skew:                           0.107   Prob(JB):                        0.598\n",
      "Kurtosis:                       2.244   Cond. No.                         476.\n",
      "==============================================================================\n",
      "\n",
      "Notes:\n",
      "[1] Standard Errors assume that the covariance matrix of the errors is correctly specified.\n"
     ]
    }
   ],
   "source": [
    "m2 = sm.ols('np.log(total_sleep) ~ np.log(body_wt)+C(predation)+C(danger) + np.log(body_wt)/np.log(life_span)+ np.log(life_span)/np.log(gestation)+np.log(gestation)', \n",
    "             data=data)\n",
    "fitted_2 = m2.fit()\n",
    "print(fitted_2.summary())"
   ]
  },
  {
   "cell_type": "code",
   "execution_count": 10,
   "metadata": {},
   "outputs": [
    {
     "name": "stdout",
     "output_type": "stream",
     "text": [
      "Breusch-Pagan test: p=0.313939\n"
     ]
    }
   ],
   "source": [
    "print('Breusch-Pagan test: p=%f' % het_breuschpagan(fitted_2.resid, fitted_2.model.exog)[1])"
   ]
  },
  {
   "cell_type": "code",
   "execution_count": 18,
   "metadata": {},
   "outputs": [
    {
     "data": {
      "image/png": "[encoded data removed]",
      "text/plain": [
       "<Figure size 1152x504 with 2 Axes>"
      ]
     },
     "metadata": {
      "needs_background": "light"
     },
     "output_type": "display_data"
    }
   ],
   "source": [
    "plt.figure(figsize=(16,7))\n",
    "plt.subplot(121)\n",
    "sc.stats.probplot(fitted_2.resid, dist=\"norm\", plot=plt)\n",
    "plt.subplot(122)\n",
    "fitted.resid.plot.hist()\n",
    "plt.xlabel('Residuals', fontsize=14)\n",
    "plt.show()"
   ]
  },
  {
   "cell_type": "code",
   "execution_count": 44,
   "metadata": {},
   "outputs": [
    {
     "data": {
      "image/png": "[encoded data removed]",
      "text/plain": [
       "<Figure size 1152x504 with 3 Axes>"
      ]
     },
     "metadata": {
      "needs_background": "light"
     },
     "output_type": "display_data"
    }
   ],
   "source": [
    "plt.figure(figsize=(16,7))\n",
    "plt.subplot(131)\n",
    "plt.scatter(data['life_span'],fitted.resid)\n",
    "plt.xlabel('life_span', fontsize=14)\n",
    "plt.ylabel('Residuals', fontsize=14)\n",
    "plt.subplot(132)\n",
    "plt.scatter(data['gestation'],fitted.resid)\n",
    "plt.xlabel('gestation', fontsize=14)\n",
    "plt.ylabel('Residuals', fontsize=14)\n",
    "plt.subplot(133)\n",
    "plt.scatter(np.log(data['life_span'])/np.log(data['gestation']),fitted.resid)\n",
    "plt.xlabel('log of ls/gest', fontsize=14)\n",
    "plt.ylabel('Residuals', fontsize=14)\n",
    "plt.show()"
   ]
  },
  {
   "cell_type": "code",
   "execution_count": 20,
   "metadata": {},
   "outputs": [
    {
     "data": {
      "image/png": "[encoded data removed]",
      "text/plain": [
       "<Figure size 1152x504 with 3 Axes>"
      ]
     },
     "metadata": {
      "needs_background": "light"
     },
     "output_type": "display_data"
    }
   ],
   "source": [
    "plt.figure(figsize=(16,7))\n",
    "plt.subplot(131)\n",
    "plt.scatter(data['predation'],fitted.resid)\n",
    "plt.xlabel('predation', fontsize=14)\n",
    "plt.ylabel('Residuals', fontsize=14)\n",
    "plt.subplot(132)\n",
    "plt.scatter(data['danger'],fitted.resid)\n",
    "plt.xlabel('danger', fontsize=14)\n",
    "plt.ylabel('Residuals', fontsize=14)\n",
    "plt.subplot(133)\n",
    "plt.scatter(data['exposure'],fitted.resid)\n",
    "plt.xlabel('exposure', fontsize=14)\n",
    "plt.ylabel('Residuals', fontsize=14)\n",
    "plt.show()"
   ]
  },
  {
   "cell_type": "markdown",
   "metadata": {},
   "source": [
    "### Полный датасет (с пропусками)"
   ]
  },
  {
   "cell_type": "code",
   "execution_count": 25,
   "metadata": {},
   "outputs": [],
   "source": [
    "data_all = pd.read_csv('mammals.csv')\n",
    "data_all.drop(['non_dreaming', 'dreaming'], axis=1, inplace=True)"
   ]
  },
  {
   "cell_type": "code",
   "execution_count": 34,
   "metadata": {},
   "outputs": [
    {
     "name": "stdout",
     "output_type": "stream",
     "text": [
      "(62, 9)\n"
     ]
    },
    {
     "data": {
      "text/html": [
       "<div>\n",
       "<style scoped>\n",
       "    .dataframe tbody tr th:only-of-type {\n",
       "        vertical-align: middle;\n",
       "    }\n",
       "\n",
       "    .dataframe tbody tr th {\n",
       "        vertical-align: top;\n",
       "    }\n",
       "\n",
       "    .dataframe thead th {\n",
       "        text-align: right;\n",
       "    }\n",
       "</style>\n",
       "<table border=\"1\" class=\"dataframe\">\n",
       "  <thead>\n",
       "    <tr style=\"text-align: right;\">\n",
       "      <th></th>\n",
       "      <th>species</th>\n",
       "      <th>body_wt</th>\n",
       "      <th>brain_wt</th>\n",
       "      <th>total_sleep</th>\n",
       "      <th>life_span</th>\n",
       "      <th>gestation</th>\n",
       "      <th>predation</th>\n",
       "      <th>exposure</th>\n",
       "      <th>danger</th>\n",
       "    </tr>\n",
       "  </thead>\n",
       "  <tbody>\n",
       "    <tr>\n",
       "      <th>0</th>\n",
       "      <td>Africanelephant</td>\n",
       "      <td>6654.000</td>\n",
       "      <td>5712.0</td>\n",
       "      <td>3.3</td>\n",
       "      <td>38.6</td>\n",
       "      <td>645.0</td>\n",
       "      <td>3</td>\n",
       "      <td>5</td>\n",
       "      <td>3</td>\n",
       "    </tr>\n",
       "    <tr>\n",
       "      <th>1</th>\n",
       "      <td>Africangiantpouchedrat</td>\n",
       "      <td>1.000</td>\n",
       "      <td>6.6</td>\n",
       "      <td>8.3</td>\n",
       "      <td>4.5</td>\n",
       "      <td>42.0</td>\n",
       "      <td>3</td>\n",
       "      <td>1</td>\n",
       "      <td>3</td>\n",
       "    </tr>\n",
       "    <tr>\n",
       "      <th>2</th>\n",
       "      <td>ArcticFox</td>\n",
       "      <td>3.385</td>\n",
       "      <td>44.5</td>\n",
       "      <td>12.5</td>\n",
       "      <td>14.0</td>\n",
       "      <td>60.0</td>\n",
       "      <td>1</td>\n",
       "      <td>1</td>\n",
       "      <td>1</td>\n",
       "    </tr>\n",
       "    <tr>\n",
       "      <th>3</th>\n",
       "      <td>Arcticgroundsquirrel</td>\n",
       "      <td>0.920</td>\n",
       "      <td>5.7</td>\n",
       "      <td>16.5</td>\n",
       "      <td>NaN</td>\n",
       "      <td>25.0</td>\n",
       "      <td>5</td>\n",
       "      <td>2</td>\n",
       "      <td>3</td>\n",
       "    </tr>\n",
       "    <tr>\n",
       "      <th>4</th>\n",
       "      <td>Asianelephant</td>\n",
       "      <td>2547.000</td>\n",
       "      <td>4603.0</td>\n",
       "      <td>3.9</td>\n",
       "      <td>69.0</td>\n",
       "      <td>624.0</td>\n",
       "      <td>3</td>\n",
       "      <td>5</td>\n",
       "      <td>4</td>\n",
       "    </tr>\n",
       "  </tbody>\n",
       "</table>\n",
       "</div>"
      ],
      "text/plain": [
       "                  species   body_wt  brain_wt  total_sleep  life_span  \\\n",
       "0         Africanelephant  6654.000    5712.0          3.3       38.6   \n",
       "1  Africangiantpouchedrat     1.000       6.6          8.3        4.5   \n",
       "2               ArcticFox     3.385      44.5         12.5       14.0   \n",
       "3    Arcticgroundsquirrel     0.920       5.7         16.5        NaN   \n",
       "4           Asianelephant  2547.000    4603.0          3.9       69.0   \n",
       "\n",
       "   gestation  predation  exposure  danger  \n",
       "0      645.0          3         5       3  \n",
       "1       42.0          3         1       3  \n",
       "2       60.0          1         1       1  \n",
       "3       25.0          5         2       3  \n",
       "4      624.0          3         5       4  "
      ]
     },
     "execution_count": 34,
     "metadata": {},
     "output_type": "execute_result"
    }
   ],
   "source": [
    "print(data_all.shape)\n",
    "data_all.head()"
   ]
  },
  {
   "cell_type": "code",
   "execution_count": 30,
   "metadata": {},
   "outputs": [],
   "source": [
    "X = data_all.copy()\n",
    "\n",
    "imputer = KNNImputer(n_neighbors=1)\n",
    "X[all_feat] = imputer.fit_transform(X[all_feat])"
   ]
  },
  {
   "cell_type": "code",
   "execution_count": 32,
   "metadata": {},
   "outputs": [
    {
     "data": {
      "text/plain": [
       "species        False\n",
       "body_wt        False\n",
       "brain_wt       False\n",
       "total_sleep    False\n",
       "life_span      False\n",
       "gestation      False\n",
       "predation      False\n",
       "exposure       False\n",
       "danger         False\n",
       "dtype: bool"
      ]
     },
     "execution_count": 32,
     "metadata": {},
     "output_type": "execute_result"
    }
   ],
   "source": [
    "X.isnull().any()"
   ]
  },
  {
   "cell_type": "code",
   "execution_count": 119,
   "metadata": {},
   "outputs": [
    {
     "name": "stdout",
     "output_type": "stream",
     "text": [
      "                             OLS Regression Results                            \n",
      "===============================================================================\n",
      "Dep. Variable:     np.log(total_sleep)   R-squared:                       0.816\n",
      "Model:                             OLS   Adj. R-squared:                  0.766\n",
      "Method:                  Least Squares   F-statistic:                     16.36\n",
      "Date:                 Mon, 21 Feb 2022   Prob (F-statistic):           2.13e-13\n",
      "Time:                         14:24:22   Log-Likelihood:                 2.7373\n",
      "No. Observations:                   62   AIC:                             22.53\n",
      "Df Residuals:                       48   BIC:                             52.31\n",
      "Df Model:                           13                                         \n",
      "Covariance Type:             nonrobust                                         \n",
      "=======================================================================================================\n",
      "                                          coef    std err          t      P>|t|      [0.025      0.975]\n",
      "-------------------------------------------------------------------------------------------------------\n",
      "Intercept                               4.6257      0.676      6.848      0.000       3.267       5.984\n",
      "C(predation)[T.2.0]                    -0.0892      0.162     -0.551      0.584      -0.414       0.236\n",
      "C(predation)[T.3.0]                    -0.1392      0.211     -0.660      0.512      -0.563       0.285\n",
      "C(predation)[T.4.0]                     0.2222      0.266      0.834      0.408      -0.313       0.758\n",
      "C(predation)[T.5.0]                     0.1800      0.285      0.632      0.531      -0.393       0.753\n",
      "C(danger)[T.2.0]                        0.0324      0.155      0.209      0.835      -0.280       0.344\n",
      "C(danger)[T.3.0]                       -0.2483      0.208     -1.193      0.239      -0.667       0.170\n",
      "C(danger)[T.4.0]                       -0.2634      0.249     -1.057      0.296      -0.765       0.238\n",
      "C(danger)[T.5.0]                       -1.0724      0.307     -3.497      0.001      -1.689      -0.456\n",
      "np.log(body_wt)                         0.1629      0.058      2.786      0.008       0.045       0.281\n",
      "np.log(body_wt):np.log(life_span)      -0.0697      0.022     -3.169      0.003      -0.114      -0.025\n",
      "np.log(life_span)                      -0.5686      0.273     -2.080      0.043      -1.118      -0.019\n",
      "np.log(life_span):np.log(gestation)     0.1393      0.066      2.121      0.039       0.007       0.271\n",
      "np.log(gestation)                      -0.5120      0.166     -3.090      0.003      -0.845      -0.179\n",
      "==============================================================================\n",
      "Omnibus:                        2.061   Durbin-Watson:                   2.067\n",
      "Prob(Omnibus):                  0.357   Jarque-Bera (JB):                1.393\n",
      "Skew:                          -0.064   Prob(JB):                        0.498\n",
      "Kurtosis:                       3.723   Cond. No.                         407.\n",
      "==============================================================================\n",
      "\n",
      "Notes:\n",
      "[1] Standard Errors assume that the covariance matrix of the errors is correctly specified.\n"
     ]
    }
   ],
   "source": [
    "m_all = sm.ols('np.log(total_sleep) ~ np.log(body_wt)+C(predation)+C(danger) + np.log(body_wt)/np.log(life_span)+ np.log(life_span)/np.log(gestation)+np.log(gestation)', \n",
    "             data=X)\n",
    "fitted_all = m_all.fit()\n",
    "print(fitted_all.summary())"
   ]
  },
  {
   "cell_type": "code",
   "execution_count": null,
   "metadata": {},
   "outputs": [],
   "source": []
  }
 ],
 "metadata": {
  "kernelspec": {
   "display_name": "Python 3",
   "language": "python",
   "name": "python3"
  },
  "language_info": {
   "codemirror_mode": {
    "name": "ipython",
    "version": 3
   },
   "file_extension": ".py",
   "mimetype": "text/x-python",
   "name": "python",
   "nbconvert_exporter": "python",
   "pygments_lexer": "ipython3",
   "version": "3.6.8"
  }
 },
 "nbformat": 4,
 "nbformat_minor": 4
}
